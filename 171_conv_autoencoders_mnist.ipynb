{
 "cells": [
  {
   "cell_type": "markdown",
   "metadata": {},
   "source": [
    "# Implementing an Autoencoder in PyTorch\n",
    "[Implementing an Autoencoder in PyTorch](https://www.geeksforgeeks.org/implementing-an-autoencoder-in-pytorch/?ref=lbp)\n",
    "\n",
    "使用卷积层，构建一个自动编码器"
   ]
  },
  {
   "cell_type": "code",
   "execution_count": 21,
   "metadata": {},
   "outputs": [
    {
     "name": "stdout",
     "output_type": "stream",
     "text": [
      "Python版本信息:\n",
      "3.10.6 (main, Oct 24 2022, 16:07:47) [GCC 11.2.0]\n",
      "torch版本信息:\n",
      "1.13.1+cu117\n",
      "python路径:\n",
      "/opt/anaconda3/envs/sd-webui/bin/python\n",
      "device cuda\n"
     ]
    }
   ],
   "source": [
    "import torch\n",
    "from torchvision import datasets\n",
    "from torchvision import transforms\n",
    "import matplotlib.pyplot as plt\n",
    "import sys\n",
    "import torch.nn as nn\n",
    "\n",
    "print(\"Python版本信息:\")\n",
    "print(sys.version)\n",
    "\n",
    "print(\"torch版本信息:\")\n",
    "print(torch.__version__)\n",
    "\n",
    "print(\"python路径:\")\n",
    "print(sys.executable)\n",
    "\n",
    "device = torch.device(\"cuda\" if torch.cuda.is_available() else \"cpu\")\n",
    "print(\"device\", device)"
   ]
  },
  {
   "cell_type": "code",
   "execution_count": 22,
   "metadata": {},
   "outputs": [],
   "source": [
    "batch_size_train = 32 # We use a small batch size here for training\n",
    "batch_size_test = 32 #\n",
    "latent_dim = 9\n",
    "\n",
    "# define how image transformed\n",
    "image_transform = transforms.Compose([\n",
    "                               transforms.ToTensor(),\n",
    "                               transforms.Normalize((0.5), (0.5))\n",
    "                             ])\n",
    "#image datasets\n",
    "train_dataset = datasets.MNIST('dataset/', train=True, download=True,transform=image_transform)\n",
    "test_dataset = datasets.MNIST('dataset/', train=False, download=True,transform=image_transform)\n",
    "#data loaders\n",
    "train_loader = torch.utils.data.DataLoader(train_dataset,batch_size=batch_size_train,shuffle=True)\n",
    "test_loader = torch.utils.data.DataLoader(test_dataset,batch_size=batch_size_test, shuffle=True)"
   ]
  },
  {
   "cell_type": "code",
   "execution_count": 23,
   "metadata": {},
   "outputs": [],
   "source": [
    "class AE(nn.Module):\n",
    "    def __init__(self) -> None:\n",
    "        super().__init__()\n",
    "        \n",
    "        self.encoder = nn.Sequential(\n",
    "            nn.Conv2d(1, 16, 3, stride=3, padding=1),  # b, 16, 10, 10\n",
    "            nn.ReLU(True),\n",
    "            nn.MaxPool2d(2, stride=2),  # b, 16, 5, 5\n",
    "            nn.Conv2d(16, 8, 3, stride=2, padding=1),  # b, 8, 3, 3\n",
    "            nn.ReLU(True),\n",
    "            nn.MaxPool2d(2, stride=1)  # b, 8, 2, 2\n",
    "        )\n",
    "        \n",
    "        self.decoder = nn.Sequential(\n",
    "            nn.ConvTranspose2d(8, 16, 3, stride=2),  # b, 16, 5, 5\n",
    "            nn.ReLU(True),\n",
    "            nn.ConvTranspose2d(16, 8, 5, stride=3, padding=1),  # b, 8, 15, 15\n",
    "            nn.ReLU(True),\n",
    "            nn.ConvTranspose2d(8, 1, 2, stride=2, padding=1),  # b, 1, 28, 28\n",
    "            nn.Tanh()\n",
    "        )\n",
    "    def forward(self, x):\n",
    "        en = self.encoder(x)\n",
    "        de = self.decoder(en)\n",
    "        return de"
   ]
  },
  {
   "cell_type": "code",
   "execution_count": 24,
   "metadata": {},
   "outputs": [],
   "source": [
    "model = AE()\n",
    "model.cuda()\n",
    "\n",
    "loss_function = nn.MSELoss()\n",
    "\n",
    "optimizer = torch.optim.Adam(model.parameters(),\n",
    "                             lr = 1e-3,\n",
    "                             weight_decay = 1e-8)"
   ]
  },
  {
   "cell_type": "code",
   "execution_count": 27,
   "metadata": {},
   "outputs": [
    {
     "name": "stdout",
     "output_type": "stream",
     "text": [
      "Train Epoch: 0 [0/60000 (0%)]\ttotal loss: 0.110681\n",
      "Train Epoch: 0 [16000/60000 (27%)]\ttotal loss: 51.013605\n",
      "Train Epoch: 0 [32000/60000 (53%)]\ttotal loss: 101.751419\n",
      "Train Epoch: 0 [48000/60000 (80%)]\ttotal loss: 151.989149\n",
      "Train Epoch: 1 [0/60000 (0%)]\ttotal loss: 0.097460\n",
      "Train Epoch: 1 [16000/60000 (27%)]\ttotal loss: 50.059144\n",
      "Train Epoch: 1 [32000/60000 (53%)]\ttotal loss: 99.587415\n",
      "Train Epoch: 1 [48000/60000 (80%)]\ttotal loss: 149.204314\n",
      "Train Epoch: 2 [0/60000 (0%)]\ttotal loss: 0.094830\n",
      "Train Epoch: 2 [16000/60000 (27%)]\ttotal loss: 49.334472\n",
      "Train Epoch: 2 [32000/60000 (53%)]\ttotal loss: 98.281034\n",
      "Train Epoch: 2 [48000/60000 (80%)]\ttotal loss: 147.101941\n",
      "Train Epoch: 3 [0/60000 (0%)]\ttotal loss: 0.097430\n",
      "Train Epoch: 3 [16000/60000 (27%)]\ttotal loss: 48.593341\n",
      "Train Epoch: 3 [32000/60000 (53%)]\ttotal loss: 97.000992\n",
      "Train Epoch: 3 [48000/60000 (80%)]\ttotal loss: 145.509683\n",
      "Train Epoch: 4 [0/60000 (0%)]\ttotal loss: 0.090416\n",
      "Train Epoch: 4 [16000/60000 (27%)]\ttotal loss: 48.085324\n",
      "Train Epoch: 4 [32000/60000 (53%)]\ttotal loss: 96.095827\n",
      "Train Epoch: 4 [48000/60000 (80%)]\ttotal loss: 143.774607\n",
      "Train Epoch: 5 [0/60000 (0%)]\ttotal loss: 0.085951\n",
      "Train Epoch: 5 [16000/60000 (27%)]\ttotal loss: 47.802341\n",
      "Train Epoch: 5 [32000/60000 (53%)]\ttotal loss: 95.335638\n",
      "Train Epoch: 5 [48000/60000 (80%)]\ttotal loss: 142.618496\n",
      "Train Epoch: 6 [0/60000 (0%)]\ttotal loss: 0.100038\n",
      "Train Epoch: 6 [16000/60000 (27%)]\ttotal loss: 47.327621\n",
      "Train Epoch: 6 [32000/60000 (53%)]\ttotal loss: 94.563042\n",
      "Train Epoch: 6 [48000/60000 (80%)]\ttotal loss: 141.889164\n",
      "Train Epoch: 7 [0/60000 (0%)]\ttotal loss: 0.088935\n",
      "Train Epoch: 7 [16000/60000 (27%)]\ttotal loss: 46.975505\n",
      "Train Epoch: 7 [32000/60000 (53%)]\ttotal loss: 93.977732\n",
      "Train Epoch: 7 [48000/60000 (80%)]\ttotal loss: 140.888483\n",
      "Train Epoch: 8 [0/60000 (0%)]\ttotal loss: 0.092153\n",
      "Train Epoch: 8 [16000/60000 (27%)]\ttotal loss: 46.601097\n",
      "Train Epoch: 8 [32000/60000 (53%)]\ttotal loss: 93.295508\n",
      "Train Epoch: 8 [48000/60000 (80%)]\ttotal loss: 140.041238\n",
      "Train Epoch: 9 [0/60000 (0%)]\ttotal loss: 0.092392\n",
      "Train Epoch: 9 [16000/60000 (27%)]\ttotal loss: 46.569220\n",
      "Train Epoch: 9 [32000/60000 (53%)]\ttotal loss: 93.132607\n",
      "Train Epoch: 9 [48000/60000 (80%)]\ttotal loss: 139.380875\n",
      "Train Epoch: 10 [0/60000 (0%)]\ttotal loss: 0.089095\n",
      "Train Epoch: 10 [16000/60000 (27%)]\ttotal loss: 46.433407\n",
      "Train Epoch: 10 [32000/60000 (53%)]\ttotal loss: 92.645627\n",
      "Train Epoch: 10 [48000/60000 (80%)]\ttotal loss: 138.950663\n",
      "Train Epoch: 11 [0/60000 (0%)]\ttotal loss: 0.100569\n",
      "Train Epoch: 11 [16000/60000 (27%)]\ttotal loss: 46.176834\n",
      "Train Epoch: 11 [32000/60000 (53%)]\ttotal loss: 92.398137\n",
      "Train Epoch: 11 [48000/60000 (80%)]\ttotal loss: 138.401695\n",
      "Train Epoch: 12 [0/60000 (0%)]\ttotal loss: 0.088080\n",
      "Train Epoch: 12 [16000/60000 (27%)]\ttotal loss: 46.015723\n",
      "Train Epoch: 12 [32000/60000 (53%)]\ttotal loss: 91.758121\n",
      "Train Epoch: 12 [48000/60000 (80%)]\ttotal loss: 137.694868\n",
      "Train Epoch: 13 [0/60000 (0%)]\ttotal loss: 0.087199\n",
      "Train Epoch: 13 [16000/60000 (27%)]\ttotal loss: 46.098019\n",
      "Train Epoch: 13 [32000/60000 (53%)]\ttotal loss: 91.562931\n",
      "Train Epoch: 13 [48000/60000 (80%)]\ttotal loss: 137.222136\n",
      "Train Epoch: 14 [0/60000 (0%)]\ttotal loss: 0.098479\n",
      "Train Epoch: 14 [16000/60000 (27%)]\ttotal loss: 45.573452\n",
      "Train Epoch: 14 [32000/60000 (53%)]\ttotal loss: 91.357539\n",
      "Train Epoch: 14 [48000/60000 (80%)]\ttotal loss: 136.873080\n",
      "Train Epoch: 15 [0/60000 (0%)]\ttotal loss: 0.106231\n",
      "Train Epoch: 15 [16000/60000 (27%)]\ttotal loss: 45.720499\n",
      "Train Epoch: 15 [32000/60000 (53%)]\ttotal loss: 91.161889\n",
      "Train Epoch: 15 [48000/60000 (80%)]\ttotal loss: 136.339853\n",
      "Train Epoch: 16 [0/60000 (0%)]\ttotal loss: 0.108317\n",
      "Train Epoch: 16 [16000/60000 (27%)]\ttotal loss: 45.504588\n",
      "Train Epoch: 16 [32000/60000 (53%)]\ttotal loss: 90.793053\n",
      "Train Epoch: 16 [48000/60000 (80%)]\ttotal loss: 136.268809\n",
      "Train Epoch: 17 [0/60000 (0%)]\ttotal loss: 0.090777\n",
      "Train Epoch: 17 [16000/60000 (27%)]\ttotal loss: 45.251185\n",
      "Train Epoch: 17 [32000/60000 (53%)]\ttotal loss: 90.318604\n",
      "Train Epoch: 17 [48000/60000 (80%)]\ttotal loss: 135.759037\n",
      "Train Epoch: 18 [0/60000 (0%)]\ttotal loss: 0.108362\n",
      "Train Epoch: 18 [16000/60000 (27%)]\ttotal loss: 45.199972\n",
      "Train Epoch: 18 [32000/60000 (53%)]\ttotal loss: 90.424285\n",
      "Train Epoch: 18 [48000/60000 (80%)]\ttotal loss: 135.626144\n",
      "Train Epoch: 19 [0/60000 (0%)]\ttotal loss: 0.097144\n",
      "Train Epoch: 19 [16000/60000 (27%)]\ttotal loss: 45.290534\n",
      "Train Epoch: 19 [32000/60000 (53%)]\ttotal loss: 90.360421\n",
      "Train Epoch: 19 [48000/60000 (80%)]\ttotal loss: 135.280290\n",
      "Train Epoch: 20 [0/60000 (0%)]\ttotal loss: 0.089309\n",
      "Train Epoch: 20 [16000/60000 (27%)]\ttotal loss: 45.014460\n",
      "Train Epoch: 20 [32000/60000 (53%)]\ttotal loss: 90.300266\n",
      "Train Epoch: 20 [48000/60000 (80%)]\ttotal loss: 135.032240\n",
      "Train Epoch: 21 [0/60000 (0%)]\ttotal loss: 0.090959\n",
      "Train Epoch: 21 [16000/60000 (27%)]\ttotal loss: 45.204776\n",
      "Train Epoch: 21 [32000/60000 (53%)]\ttotal loss: 90.096135\n",
      "Train Epoch: 21 [48000/60000 (80%)]\ttotal loss: 134.927135\n",
      "Train Epoch: 22 [0/60000 (0%)]\ttotal loss: 0.084740\n",
      "Train Epoch: 22 [16000/60000 (27%)]\ttotal loss: 44.972860\n",
      "Train Epoch: 22 [32000/60000 (53%)]\ttotal loss: 89.857753\n",
      "Train Epoch: 22 [48000/60000 (80%)]\ttotal loss: 134.482068\n",
      "Train Epoch: 23 [0/60000 (0%)]\ttotal loss: 0.094557\n",
      "Train Epoch: 23 [16000/60000 (27%)]\ttotal loss: 44.891087\n",
      "Train Epoch: 23 [32000/60000 (53%)]\ttotal loss: 89.635559\n",
      "Train Epoch: 23 [48000/60000 (80%)]\ttotal loss: 134.410036\n",
      "Train Epoch: 24 [0/60000 (0%)]\ttotal loss: 0.077647\n",
      "Train Epoch: 24 [16000/60000 (27%)]\ttotal loss: 44.886394\n",
      "Train Epoch: 24 [32000/60000 (53%)]\ttotal loss: 89.552797\n",
      "Train Epoch: 24 [48000/60000 (80%)]\ttotal loss: 134.390417\n",
      "Train Epoch: 25 [0/60000 (0%)]\ttotal loss: 0.086650\n",
      "Train Epoch: 25 [16000/60000 (27%)]\ttotal loss: 44.680960\n",
      "Train Epoch: 25 [32000/60000 (53%)]\ttotal loss: 89.299192\n",
      "Train Epoch: 25 [48000/60000 (80%)]\ttotal loss: 133.905100\n",
      "Train Epoch: 26 [0/60000 (0%)]\ttotal loss: 0.114631\n",
      "Train Epoch: 26 [16000/60000 (27%)]\ttotal loss: 44.824569\n",
      "Train Epoch: 26 [32000/60000 (53%)]\ttotal loss: 89.380607\n",
      "Train Epoch: 26 [48000/60000 (80%)]\ttotal loss: 133.903872\n",
      "Train Epoch: 27 [0/60000 (0%)]\ttotal loss: 0.076301\n",
      "Train Epoch: 27 [16000/60000 (27%)]\ttotal loss: 44.786361\n",
      "Train Epoch: 27 [32000/60000 (53%)]\ttotal loss: 89.184105\n",
      "Train Epoch: 27 [48000/60000 (80%)]\ttotal loss: 133.775831\n",
      "Train Epoch: 28 [0/60000 (0%)]\ttotal loss: 0.089899\n",
      "Train Epoch: 28 [16000/60000 (27%)]\ttotal loss: 44.554297\n",
      "Train Epoch: 28 [32000/60000 (53%)]\ttotal loss: 88.833931\n",
      "Train Epoch: 28 [48000/60000 (80%)]\ttotal loss: 133.486532\n",
      "Train Epoch: 29 [0/60000 (0%)]\ttotal loss: 0.093244\n",
      "Train Epoch: 29 [16000/60000 (27%)]\ttotal loss: 44.303616\n",
      "Train Epoch: 29 [32000/60000 (53%)]\ttotal loss: 88.909517\n",
      "Train Epoch: 29 [48000/60000 (80%)]\ttotal loss: 133.010881\n"
     ]
    }
   ],
   "source": [
    "epochs = 30\n",
    "outputs = []\n",
    "\n",
    "for epoch in range(epochs):\n",
    "    total_loss = 0\n",
    "    for batch_idx, (x, _) in enumerate(train_loader):\n",
    "        x = x.to(device)\n",
    "        # x = x.reshape(-1, 28*28)\n",
    "        \n",
    "        reconstructed = model(x)\n",
    "        \n",
    "        loss = loss_function(reconstructed, x)\n",
    "        optimizer.zero_grad()\n",
    "        loss.backward()\n",
    "        optimizer.step()\n",
    "        \n",
    "        total_loss += loss.item()\n",
    "        \n",
    "        if batch_idx % 500 == 0:\n",
    "            print('Train Epoch: {} [{}/{} ({:.0f}%)]\\ttotal loss: {:.6f}'.format(\n",
    "                epoch, batch_idx * len(x), len(train_loader.dataset),\n",
    "                100. * batch_idx / len(train_loader), total_loss))\n",
    "        \n",
    "    outputs.append((epochs, x, reconstructed))   \n",
    "    \n",
    "torch.save(model.state_dict(), './conv_autoencoder.pth')   "
   ]
  },
  {
   "cell_type": "code",
   "execution_count": 36,
   "metadata": {},
   "outputs": [],
   "source": [
    "def to_img(x):\n",
    "    x = 0.5 * (x + 1)\n",
    "    x = x.clamp(0, 1)\n",
    "    x = x.view(x.size(0), 1, 28, 28)\n",
    "    return x"
   ]
  },
  {
   "cell_type": "code",
   "execution_count": 35,
   "metadata": {},
   "outputs": [
    {
     "data": {
      "image/png": "[encoded data removed]",
      "text/plain": [
       "<Figure size 640x480 with 6 Axes>"
      ]
     },
     "metadata": {},
     "output_type": "display_data"
    }
   ],
   "source": [
    "item = to_img(x)\n",
    "\n",
    "fig = plt.figure()\n",
    "for i in range(6):\n",
    "  plt.subplot(2,3,i+1)\n",
    "  plt.tight_layout()\n",
    "  # item = x[i].reshape(-1, 28, 28)\n",
    "  plt.imshow(item[i][0].cpu().numpy(), cmap='gray', interpolation='none')\n",
    "  plt.xticks([])\n",
    "  plt.yticks([])\n",
    "  "
   ]
  },
  {
   "cell_type": "code",
   "execution_count": 33,
   "metadata": {},
   "outputs": [
    {
     "data": {
      "image/png": "[encoded data removed]",
      "text/plain": [
       "<Figure size 640x480 with 6 Axes>"
      ]
     },
     "metadata": {},
     "output_type": "display_data"
    }
   ],
   "source": [
    "item = to_img(reconstructed)\n",
    "\n",
    "fig = plt.figure()\n",
    "for i in range(6):\n",
    "  plt.subplot(2,3,i+1)\n",
    "  plt.tight_layout()\n",
    "  \n",
    "  plt.imshow(item[i][0].cpu().detach().numpy(), cmap='gray',interpolation='none')\n",
    "  plt.xticks([])\n",
    "  plt.yticks([])"
   ]
  },
  {
   "cell_type": "code",
   "execution_count": 40,
   "metadata": {},
   "outputs": [],
   "source": [
    "import os\n",
    "from torchvision.utils import save_image\n",
    "\n",
    "path = './output/image'\n",
    "if not os.path.exists(path):\n",
    "    os.makedirs(path)\n",
    "\n",
    "pic = to_img(reconstructed.cpu().data)\n",
    "save_image(pic, path+'/image_epoch{}.png'.format(epoch))"
   ]
  }
 ],
 "metadata": {
  "kernelspec": {
   "display_name": "sd-webui",
   "language": "python",
   "name": "python3"
  },
  "language_info": {
   "codemirror_mode": {
    "name": "ipython",
    "version": 3
   },
   "file_extension": ".py",
   "mimetype": "text/x-python",
   "name": "python",
   "nbconvert_exporter": "python",
   "pygments_lexer": "ipython3",
   "version": "3.10.6"
  }
 },
 "nbformat": 4,
 "nbformat_minor": 2
}

{
 "cells": [
  {
   "cell_type": "code",
   "execution_count": null,
   "metadata": {},
   "outputs": [],
   "source": [
    "import gradio as gr\n",
    "\n",
    "def greet(name, intensity):\n",
    "    return \"Hello, \" + name + \"!\" * int(intensity)\n",
    "\n",
    "demo = gr.Interface(\n",
    "    fn=greet,\n",
    "    inputs=[\"text\", \"slider\"],\n",
    "    outputs=[\"text\"],\n",
    ")\n",
    "\n",
    "demo.launch(server_name='0.0.0.0')\n"
   ]
  },
  {
   "cell_type": "code",
   "execution_count": null,
   "metadata": {},
   "outputs": [],
   "source": [
    "import numpy as np\n",
    "import gradio as gr\n",
    "\n",
    "def sepia(input_img):\n",
    "    sepia_filter = np.array([\n",
    "        [0.393, 0.769, 0.189], \n",
    "        [0.349, 0.686, 0.168], \n",
    "        [0.272, 0.534, 0.131]\n",
    "    ])\n",
    "    sepia_img = input_img.dot(sepia_filter.T)\n",
    "    sepia_img /= sepia_img.max()\n",
    "    return sepia_img\n",
    "\n",
    "demo = gr.Interface(sepia, gr.Image(), \"image\") # 输入控件=gr.Image()，输出控件='image', 创建一个控件可以指定构造函数和参数；或者用字符串标识，调用默认构造函数\n",
    "demo.launch(server_name='0.0.0.0')\n"
   ]
  },
  {
   "cell_type": "code",
   "execution_count": null,
   "metadata": {},
   "outputs": [],
   "source": [
    "from pathlib import Path\n",
    "import gradio as gr\n",
    "\n",
    "def upload_file(filepath):\n",
    "    name = Path(filepath).name\n",
    "    return [gr.UploadButton(visible=False), gr.DownloadButton(label=f\"Download {name}\", value=filepath, visible=True)]\n",
    "\n",
    "def download_file():\n",
    "    return [gr.UploadButton(visible=True), gr.DownloadButton(visible=False)]\n",
    "\n",
    "with gr.Blocks() as demo:\n",
    "    gr.Markdown(\"First upload a file and and then you'll be able download it (but only once!)\")\n",
    "    with gr.Row():\n",
    "        u = gr.UploadButton(\"Upload a file\", file_count=\"single\")\n",
    "        d = gr.DownloadButton(\"Download the file\", visible=False)\n",
    "\n",
    "    u.upload(upload_file, u, [u, d])\n",
    "    d.click(download_file, None, [u, d])\n",
    "\n",
    "\n",
    "if __name__ == \"__main__\":\n",
    "    demo.launch(server_name='0.0.0.0')\n"
   ]
  },
  {
   "cell_type": "code",
   "execution_count": null,
   "metadata": {},
   "outputs": [],
   "source": [
    "import gradio as gr\n",
    "\n",
    "def upload_file(files):\n",
    "    file_paths = [file.name for file in files]\n",
    "    print(\"aaa\")\n",
    "    return file_paths\n",
    "\n",
    "def click_file(files):\n",
    "    file_paths = [file.name for file in files]\n",
    "    print(\"aaa\")\n",
    "\n",
    "with gr.Blocks() as demo:\n",
    "    file_output = gr.File()\n",
    "    upload_button = gr.UploadButton(\"Click to Upload a File\", file_types=[\"image\", \"video\"], file_count=\"multiple\")\n",
    "    upload_button.upload(upload_file, upload_button, file_output)\n",
    "    upload_button.click(click_file, upload_button)\n",
    "\n",
    "if __name__ == \"__main__\":\n",
    "    demo.launch(server_name='0.0.0.0')\n"
   ]
  },
  {
   "cell_type": "code",
   "execution_count": null,
   "metadata": {},
   "outputs": [],
   "source": [
    "import gradio as gr\n",
    "import numpy as np\n",
    "from PIL import Image\n",
    "\n",
    "# 假设你有一个图像模型，该模型接收一个numpy数组作为输入并返回预测结果\n",
    "def process_image(image_path):\n",
    "    # 加载图片\n",
    "    img = Image.open(image_path)\n",
    "    # 转换为numpy数组（例如，如果模型需要RGB格式且是归一化的）\n",
    "    img_array = np.array(img.convert(\"RGB\")).astype('float32') / 255.0\n",
    "    # 假设 model 是你的模型对象\n",
    "    # prediction = model.predict(img_array[np.newaxis, ...])\n",
    "    return img_array\n",
    "\n",
    "# 创建Gradio界面\n",
    "inputs = gr.inputs.Upload(label=\"Upload an image\")\n",
    "outputs = gr.outputs.Label(num_top_classes=1)\n",
    "\n",
    "iface = gr.Interface(\n",
    "    fn=process_image,\n",
    "    inputs=inputs,\n",
    "    outputs=outputs,\n",
    "    title=\"Image Classifier\",\n",
    "    description=\"Upload an image to see the classification result.\",\n",
    ")\n",
    "\n",
    "if __name__ == \"__main__\":\n",
    "    # demo.launch(server_name='0.0.0.0')\n",
    "    # 启动应用\n",
    "    iface.launch(server_name='0.0.0.0')"
   ]
  },
  {
   "cell_type": "code",
   "execution_count": null,
   "metadata": {},
   "outputs": [],
   "source": []
  }
 ],
 "metadata": {
  "kernelspec": {
   "display_name": "sd-webui",
   "language": "python",
   "name": "python3"
  },
  "language_info": {
   "codemirror_mode": {
    "name": "ipython",
    "version": 3
   },
   "file_extension": ".py",
   "mimetype": "text/x-python",
   "name": "python",
   "nbconvert_exporter": "python",
   "pygments_lexer": "ipython3",
   "version": "3.10.6"
  }
 },
 "nbformat": 4,
 "nbformat_minor": 2
}

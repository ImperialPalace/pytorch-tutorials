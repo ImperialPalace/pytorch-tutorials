{
 "cells": [
  {
   "cell_type": "markdown",
   "metadata": {},
   "source": [
    "# Generative Adversarial Networks\n",
    "\n",
    "论文[Generative Adversarial Networks](https://arxiv.org/abs/1406.2661)\n",
    "\n",
    "相关github\n",
    " - [PyTorch-GAN](https://github.com/eriklindernoren/PyTorch-GAN/tree/master)\n",
    "  \n",
    "[Generative Adverserial Networks in PyTorch](https://jovian.ml/aakashns/06-mnist-gan)"
   ]
  }
 ],
 "metadata": {
  "language_info": {
   "name": "python"
  }
 },
 "nbformat": 4,
 "nbformat_minor": 2
}
